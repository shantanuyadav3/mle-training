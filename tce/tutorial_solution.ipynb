{
  "cells": [
    {
      "cell_type": "code",
      "execution_count": null,
      "metadata": {
        "colab": {
          "base_uri": "https://localhost:8080/",
          "height": 35
        },
        "id": "btQkKZynQQMC",
        "outputId": "6300238d-3416-4f2e-c7c3-4e84a35a9cd7"
      },
      "outputs": [
        {
          "data": {
            "application/vnd.google.colaboratory.intrinsic+json": {
              "type": "string"
            },
            "text/plain": [
              "'1.5.3'"
            ]
          },
          "execution_count": 69,
          "metadata": {},
          "output_type": "execute_result"
        }
      ],
      "source": [
        "import pandas as pd\n",
        "pd.__version__"
      ]
    },
    {
      "cell_type": "code",
      "execution_count": null,
      "metadata": {
        "id": "FsHrwSQiQQMF"
      },
      "outputs": [],
      "source": [
        "import matplotlib.pyplot as plt\n",
        "%matplotlib inline"
      ]
    },
    {
      "cell_type": "markdown",
      "metadata": {
        "id": "x1JzSaZ4QQMG"
      },
      "source": [
        "## 1. Introduction to the dataset"
      ]
    },
    {
      "cell_type": "markdown",
      "metadata": {
        "id": "6OVPeGvvQQMH"
      },
      "source": [
        "Note:\n",
        "1. Load the datasets\n",
        "2. rows, columns\n",
        "3. merge the datasets into a single data frame\n",
        "4. count the number of null values and remove the records from analysis\n",
        "5. Check the types and memory usage\n",
        "6. Use the right types and check the new memory"
      ]
    },
    {
      "cell_type": "code",
      "execution_count": null,
      "metadata": {
        "colab": {
          "base_uri": "https://localhost:8080/"
        },
        "id": "E19tvXPmQQMI",
        "outputId": "72a4f308-e653-4653-9ee9-9eb068f1bd0f"
      },
      "outputs": [
        {
          "name": "stdout",
          "output_type": "stream",
          "text": [
            "the number of null values 157\n",
            "Memory Type\n",
            "duration              float64\n",
            "event                  object\n",
            "film_date              object\n",
            "languages             float64\n",
            "main_speaker           object\n",
            "name                   object\n",
            "num_speaker           float64\n",
            "published_date         object\n",
            "ratings                object\n",
            "related_talks          object\n",
            "speaker_occupation     object\n",
            "tags                   object\n",
            "title                  object\n",
            "url                    object\n",
            "description            object\n",
            "comments              float64\n",
            "views                 float64\n",
            "transcript             object\n",
            "dtype: object\n",
            "Memory Usages Before\n",
            "62484372\n",
            "Memory Usages After\n",
            "62201530\n"
          ]
        }
      ],
      "source": [
        "def q1():\n",
        "    df1 = pd.read_csv('cof_main_1.csv')\n",
        "    df2 = pd.read_csv('cof_main_2.csv')\n",
        "    df = df1.merge(df2, on='url')\n",
        "    print(\"the number of null values\",sum(df.isnull().values.ravel()))\n",
        "    df.dropna(inplace=True)\n",
        "    print('Memory Type')\n",
        "    print(df.dtypes)\n",
        "    print('Memory Usages Before')\n",
        "    print(df.memory_usage(deep=True).sum())\n",
        "    df['film_date'] = pd.to_datetime(df['film_date'], unit='s', errors='coerce')\n",
        "    df['published_date'] = pd.to_datetime(df['published_date'], unit='s', errors='coerce')\n",
        "\n",
        "    df['languages'] = df['languages'].astype(int)\n",
        "    df['num_speaker'] = df['num_speaker'].astype(int)\n",
        "    df['comments'] = df['comments'].astype(int)\n",
        "    df['views'] = df['views'].astype(int)\n",
        "\n",
        "    print('Memory Usages After')\n",
        "    print(df.memory_usage(deep=True).sum())\n",
        "\n",
        "    return df\n",
        "df = q1()"
      ]
    },
    {
      "cell_type": "markdown",
      "metadata": {
        "id": "Qg5M3FLRQQMI"
      },
      "source": [
        "## 2. Which talks provoke the most online discussion?"
      ]
    },
    {
      "cell_type": "markdown",
      "metadata": {
        "id": "e7Ud_UUbQQMJ"
      },
      "source": [
        "Notes:\n",
        "1. sort by the number of first-level comments, though this is biased in favor of older talks\n",
        "2. correct for this bias by calculating the number of view per comments  "
      ]
    },
    {
      "cell_type": "code",
      "execution_count": null,
      "metadata": {
        "colab": {
          "base_uri": "https://localhost:8080/"
        },
        "id": "5E3NROU4QQMK",
        "outputId": "410a3ea3-6280-4e4e-9ec7-f7ccdf459748"
      },
      "outputs": [
        {
          "name": "stdout",
          "output_type": "stream",
          "text": [
            "                                                  title  comments     views  \\\n",
            "0                           Do schools kill creativity?      4553  47227110   \n",
            "644                  Science can answer moral questions      3356   3433437   \n",
            "201                                My stroke of insight      2877  21190883   \n",
            "1790                  How do you explain consciousness?      2673   2162764   \n",
            "954                        Taking imagination seriously      2492   1832930   \n",
            "...                                                 ...       ...       ...   \n",
            "2395  Smelfies, and other experiments in synthetic b...         6    760537   \n",
            "2531    How your pictures can help reclaim lost history         3    539207   \n",
            "2545  Living sculptures that stand for history's truths         3    542088   \n",
            "2504  The stories behind The New Yorker's iconic covers         3    839040   \n",
            "2537         What it feels like to see Earth from space         2    646174   \n",
            "\n",
            "      views_per_comment  \n",
            "0          10372.745443  \n",
            "644         1023.074195  \n",
            "201         7365.618005  \n",
            "1790         809.114852  \n",
            "954          735.525682  \n",
            "...                 ...  \n",
            "2395      126756.166667  \n",
            "2531      179735.666667  \n",
            "2545      180696.000000  \n",
            "2504      279680.000000  \n",
            "2537      323087.000000  \n",
            "\n",
            "[2397 rows x 4 columns]\n"
          ]
        }
      ],
      "source": [
        "def q2(df):\n",
        "    df_sorted_comments = df.sort_values(by='comments', ascending=False)\n",
        "    df_sorted_comments['views_per_comment'] = df_sorted_comments['views'] / df_sorted_comments['comments']\n",
        "    print(df_sorted_comments[['title', 'comments', 'views', 'views_per_comment']])\n",
        "    return df_sorted_comments\n",
        "df_new = q2(df.copy())"
      ]
    },
    {
      "cell_type": "markdown",
      "metadata": {
        "id": "LviAjE2vQQML"
      },
      "source": [
        "## 3. Visualize the distribution of comments"
      ]
    },
    {
      "cell_type": "markdown",
      "metadata": {
        "id": "7p9EzjM7QQMM"
      },
      "source": [
        "Notes:\n",
        "1. show the frequency distribution of comments using both histogram and box plots\n"
      ]
    },
    {
      "cell_type": "code",
      "execution_count": null,
      "metadata": {
        "colab": {
          "base_uri": "https://localhost:8080/",
          "height": 484
        },
        "id": "K6w9wVfJQQMM",
        "outputId": "e66b6477-9253-4fa8-9986-7b2c180da2bb"
      },
      "outputs": [
        {
          "data": {
            "image/png": "[encoded data removed]",
            "text/plain": [
              "<Figure size 1200x600 with 2 Axes>"
            ]
          },
          "metadata": {},
          "output_type": "display_data"
        }
      ],
      "source": [
        "import matplotlib.pyplot as plt\n",
        "import seaborn as sns\n",
        "\n",
        "def q3(df):\n",
        "    fig, (ax1, ax2) = plt.subplots(1, 2, figsize=(12, 6))\n",
        "\n",
        "    sns.histplot(df['comments'], bins=30, kde=False, ax=ax1)\n",
        "    ax1.set_title('Histogram of Comments')\n",
        "    ax1.set_xlabel('Number of Comments')\n",
        "    ax1.set_ylabel('Frequency')\n",
        "\n",
        "    sns.boxplot(x=df['comments'], ax=ax2)\n",
        "    ax2.set_title('Box Plot of Comments')\n",
        "    ax2.set_xlabel('Number of Comments')\n",
        "\n",
        "    plt.tight_layout()\n",
        "    plt.show()\n",
        "\n",
        "q3(df.copy())"
      ]
    },
    {
      "cell_type": "markdown",
      "metadata": {
        "id": "xKMYeYNpQQMN"
      },
      "source": [
        "## 4. Plot the number of talks that took place each year\n",
        "\n",
        "Bonus exercise: calculate the average delay between filming and publishing"
      ]
    },
    {
      "cell_type": "markdown",
      "metadata": {
        "id": "LyoKTA78QQMN"
      },
      "source": [
        "Notes:\n",
        "1. Convert the film_date column in to datetime\n",
        "2. Agg and plot a line chart\n",
        "3. investigate the low number of talks in later years"
      ]
    },
    {
      "cell_type": "code",
      "execution_count": null,
      "metadata": {
        "colab": {
          "base_uri": "https://localhost:8080/",
          "height": 564
        },
        "id": "vlSHvp9BQQMN",
        "outputId": "db8c66c9-75ff-4cd6-c512-000b659f1a7b"
      },
      "outputs": [
        {
          "data": {
            "image/png": "[encoded data removed]",
            "text/plain": [
              "<Figure size 1000x600 with 1 Axes>"
            ]
          },
          "metadata": {},
          "output_type": "display_data"
        }
      ],
      "source": [
        "df['film_date'] = pd.to_datetime(df['film_date'], unit='s')\n",
        "\n",
        "df['year'] = df['film_date'].dt.year\n",
        "\n",
        "talks_by_year = df.groupby('year').size().reset_index(name='num_talks')\n",
        "\n",
        "plt.figure(figsize=(10, 6))\n",
        "sns.lineplot(x='year', y='num_talks', data=talks_by_year, marker='o')\n",
        "plt.title('Number of Talks Over the Years')\n",
        "plt.xlabel('Year')\n",
        "plt.ylabel('Number of Talks')\n",
        "plt.grid(True)\n",
        "plt.show()"
      ]
    },
    {
      "cell_type": "markdown",
      "metadata": {
        "id": "xtHwCn0pQQMO"
      },
      "source": [
        "## 5. What were the \"best\" events in Conference history to attend?"
      ]
    },
    {
      "cell_type": "markdown",
      "metadata": {
        "id": "m95pjF-2QQMO"
      },
      "source": [
        "Notes:\n",
        "1. count the number of talks\n",
        "2. Use Views as proxy for quality\n",
        "3. find the largest values, but we don't know how many talks are being averaged\n",
        "4. show the number of talks along with the mean\n",
        "5. calculate the total views per event"
      ]
    },
    {
      "cell_type": "code",
      "execution_count": null,
      "metadata": {
        "colab": {
          "base_uri": "https://localhost:8080/"
        },
        "id": "JNpdCGhZQQMO",
        "outputId": "86edefc1-ecb9-4d53-fa76-bcce5974841c"
      },
      "outputs": [
        {
          "name": "stdout",
          "output_type": "stream",
          "text": [
            "Number of Talks: 2397\n",
            "\n",
            "Top Talks:\n",
            "                                                  title     views\n",
            "0                           Do schools kill creativity?  47227110\n",
            "1349           Your body language may shape who you are  43155405\n",
            "677                    How great leaders inspire action  34309432\n",
            "837                          The power of vulnerability  31168150\n",
            "452              10 things you didn't know about orgasm  22270883\n",
            "1779         How to speak so that people want to listen  21594632\n",
            "201                                My stroke of insight  21190883\n",
            "5                                  Why we do what we do  20685401\n",
            "2117  This is what happens when you reply to spam email  20475972\n",
            "1419  Looks aren't everything. Believe me, I'm a model.  19787465\n",
            "\n",
            "Mean Views: 1751246.57\n",
            "\n",
            "Total Views Per Event:\n",
            "                           event  total_views_per_event\n",
            "0             Arbejdsglaede Live                 971594\n",
            "1    Business Innovation Factory                 757560\n",
            "2               COF Fellows 2015                1296514\n",
            "3       COF Fellows Retreat 2013                3423122\n",
            "4       COF Fellows Retreat 2015               11315281\n",
            "..                           ...                    ...\n",
            "309              Mission Blue II               10635778\n",
            "310          Mission Blue Voyage                9635100\n",
            "311            Serious Play 2008                7407521\n",
            "312       Skoll World Forum 2007                 418234\n",
            "313                  Taste3 2008                6226642\n",
            "\n",
            "[314 rows x 2 columns]\n"
          ]
        }
      ],
      "source": [
        "num_talks = df.shape[0]\n",
        "\n",
        "top_talks = df.nlargest(10, 'views')\n",
        "mean_views = df['views'].mean()\n",
        "\n",
        "total_views_per_event = df.groupby('event')['views'].sum().reset_index(name='total_views_per_event')\n",
        "\n",
        "print(f\"Number of Talks: {num_talks}\")\n",
        "print(\"\\nTop Talks:\")\n",
        "print(top_talks[['title', 'views']])\n",
        "print(f\"\\nMean Views: {mean_views:.2f}\")\n",
        "\n",
        "print(\"\\nTotal Views Per Event:\")\n",
        "print(total_views_per_event)"
      ]
    },
    {
      "cell_type": "markdown",
      "metadata": {
        "id": "taxGF1JWQQMP"
      },
      "source": [
        "## 6. Unpack the ratings data"
      ]
    },
    {
      "cell_type": "markdown",
      "metadata": {
        "id": "Vd54ovU2QQMP"
      },
      "source": [
        "Notes:\n",
        "1. Convert the data type of ratings into appropriate type\n",
        "2. define a function to convert an element in the ratings Series from string to list"
      ]
    },
    {
      "cell_type": "markdown",
      "metadata": {
        "id": "Z618mVBCQQMP"
      },
      "source": [
        "Lessons:\n",
        "\n",
        "1. Pay attention to data types in pandas\n",
        "2. Use apply any time it is necessary"
      ]
    },
    {
      "cell_type": "code",
      "execution_count": null,
      "metadata": {
        "colab": {
          "base_uri": "https://localhost:8080/"
        },
        "id": "84z8G5YgQQMQ",
        "outputId": "60d32c24-5a97-42f5-f4aa-a1e60faccee6"
      },
      "outputs": [
        {
          "name": "stdout",
          "output_type": "stream",
          "text": [
            "<class 'pandas.core.frame.DataFrame'>\n",
            "Int64Index: 2397 entries, 0 to 2552\n",
            "Data columns (total 19 columns):\n",
            " #   Column              Non-Null Count  Dtype         \n",
            "---  ------              --------------  -----         \n",
            " 0   duration            2397 non-null   float64       \n",
            " 1   event               2397 non-null   object        \n",
            " 2   film_date           2394 non-null   datetime64[ns]\n",
            " 3   languages           2397 non-null   int64         \n",
            " 4   main_speaker        2397 non-null   object        \n",
            " 5   name                2397 non-null   object        \n",
            " 6   num_speaker         2397 non-null   int64         \n",
            " 7   published_date      2395 non-null   datetime64[ns]\n",
            " 8   ratings             2397 non-null   object        \n",
            " 9   related_talks       2397 non-null   object        \n",
            " 10  speaker_occupation  2397 non-null   object        \n",
            " 11  tags                2397 non-null   object        \n",
            " 12  title               2397 non-null   object        \n",
            " 13  url                 2397 non-null   object        \n",
            " 14  description         2397 non-null   object        \n",
            " 15  comments            2397 non-null   int64         \n",
            " 16  views               2397 non-null   int64         \n",
            " 17  transcript          2397 non-null   object        \n",
            " 18  year                2394 non-null   float64       \n",
            "dtypes: datetime64[ns](2), float64(2), int64(4), object(11)\n",
            "memory usage: 374.5+ KB\n",
            "None\n"
          ]
        }
      ],
      "source": [
        "import ast\n",
        "\n",
        "def q6(df):\n",
        "    df['ratings'] = df['ratings'].apply(ast.literal_eval)\n",
        "\n",
        "    print(df.info())\n",
        "    return df\n",
        "\n",
        "df_new2 = q6(df.copy())"
      ]
    },
    {
      "cell_type": "markdown",
      "metadata": {
        "id": "ZtNccM7mQQMQ"
      },
      "source": [
        "## 7. Count the total number of ratings received by each talk\n",
        "\n",
        "Bonus exercises:\n",
        "\n",
        "- for each talk, calculate the percentage of ratings that were negative\n",
        "- for each talk, calculate the average number of ratings it received per day since it was published"
      ]
    },
    {
      "cell_type": "markdown",
      "metadata": {
        "id": "DdT8m_jEQQMQ"
      },
      "source": [
        "Notes:\n",
        "1. expected result (for each talk) is sum of count\n",
        "2. write a fucntion that will take the list and return the count"
      ]
    },
    {
      "cell_type": "code",
      "execution_count": null,
      "metadata": {
        "colab": {
          "base_uri": "https://localhost:8080/"
        },
        "id": "LM63XeqMQQMR",
        "outputId": "d69cfba8-cb17-45ac-e126-11f60cf40aa2"
      },
      "outputs": [
        {
          "name": "stdout",
          "output_type": "stream",
          "text": [
            "                                                  title  negative_percentage  \\\n",
            "0                           Do schools kill creativity?                  0.0   \n",
            "1                           Averting the climate crisis                  0.0   \n",
            "2                                      Simplicity sells                  0.0   \n",
            "3                                   Greening the ghetto                  0.0   \n",
            "4                       The best stats you've ever seen                  0.0   \n",
            "...                                                 ...                  ...   \n",
            "2548  What we're missing in the debate about immigra...                  0.0   \n",
            "2549                    The most Martian place on Earth                  0.0   \n",
            "2550  What intelligent machines can learn from a sch...                  0.0   \n",
            "2551       A black man goes undercover in the alt-right                  0.0   \n",
            "2552  How a video game might help us build better ci...                  0.0   \n",
            "\n",
            "      avg_ratings_per_day  num_ratings  \n",
            "0                0.114754           14  \n",
            "1                0.114754           14  \n",
            "2                0.113821           14  \n",
            "3                0.115702           14  \n",
            "4                0.112000           14  \n",
            "...                   ...          ...  \n",
            "2548             0.133333           14  \n",
            "2549             0.093960           14  \n",
            "2550             0.093333           14  \n",
            "2551             0.186667           14  \n",
            "2552             0.092715           14  \n",
            "\n",
            "[2397 rows x 4 columns]\n"
          ]
        }
      ],
      "source": [
        "def calculate_negative_percentage(ratings):\n",
        "    if not ratings:\n",
        "        return 0.0\n",
        "    negative_count = sum(1 for rating in ratings if rating['name'] == 'Negative')\n",
        "    total_count = len(ratings)\n",
        "    return (negative_count / total_count) * 100\n",
        "\n",
        "def calculate_avg_ratings_per_day(row):\n",
        "    if pd.isnull(row['published_date']):\n",
        "        return 0.0\n",
        "    days_since_published = (row['published_date'] - row['film_date']).days\n",
        "    if days_since_published == 0:\n",
        "        return 0.0\n",
        "    return row['num_ratings'] / days_since_published\n",
        "\n",
        "def q7(df):\n",
        "    df['ratings'] = df['ratings'].apply(ast.literal_eval)\n",
        "    df['negative_percentage'] = df['ratings'].apply(calculate_negative_percentage)\n",
        "    df['num_ratings'] = df['ratings'].apply(len)\n",
        "    df['avg_ratings_per_day'] = df.apply(calculate_avg_ratings_per_day, axis=1)\n",
        "\n",
        "    # Display the relevant columns\n",
        "    result_df = df[['title', 'negative_percentage', 'avg_ratings_per_day', 'num_ratings']]\n",
        "    print(result_df)\n",
        "    return result_df\n",
        "\n",
        "df_new3 = q7(df.copy())"
      ]
    },
    {
      "cell_type": "markdown",
      "metadata": {
        "id": "qA1qwZvfQQMR"
      },
      "source": [
        "## 8. Which occupations deliver the funniest conference talks on average?\n",
        "\n",
        "Bonus exercises:\n",
        "\n",
        "- for each talk, calculate the most frequent rating\n",
        "- for each talk, clean the occupation data so that there's only one occupation per talk"
      ]
    },
    {
      "cell_type": "markdown",
      "metadata": {
        "id": "RPAwVfGmQQMR"
      },
      "source": [
        "1. Count the number of funny ratings\n",
        "2. Calculate the percentage of ratings that are funny\n",
        "3. Analyze the funny rate by occupation\n",
        "4. Focus on occupations that are well-represented in the data\n",
        "5. Re-analyze the funny rate by occupation (for top occupations only)"
      ]
    },
    {
      "cell_type": "code",
      "execution_count": null,
      "metadata": {
        "colab": {
          "base_uri": "https://localhost:8080/"
        },
        "id": "Br2l0EZHQQMR",
        "outputId": "cad79ee6-b584-4b49-b90b-9dbe44035298"
      },
      "outputs": [
        {
          "name": "stdout",
          "output_type": "stream",
          "text": [
            "                                                  title most_frequent_rating  \\\n",
            "0                           Do schools kill creativity?                Funny   \n",
            "1                           Averting the climate crisis                Funny   \n",
            "2                                      Simplicity sells                Funny   \n",
            "3                                   Greening the ghetto           Courageous   \n",
            "4                       The best stats you've ever seen            Ingenious   \n",
            "...                                                 ...                  ...   \n",
            "2548  What we're missing in the debate about immigra...           Courageous   \n",
            "2549                    The most Martian place on Earth          Fascinating   \n",
            "2550  What intelligent machines can learn from a sch...            Beautiful   \n",
            "2551       A black man goes undercover in the alt-right           Longwinded   \n",
            "2552  How a video game might help us build better ci...         Unconvincing   \n",
            "\n",
            "     cleaned_occupation  num_funny_ratings  funny_percentage  \n",
            "0                     A                  1          0.009641  \n",
            "1                     C                  1          0.008280  \n",
            "2                     T                  1          0.007578  \n",
            "3                     A                  1          0.011782  \n",
            "4                     G                  1          0.004939  \n",
            "...                 ...                ...               ...  \n",
            "2548                  J                  1          0.003774  \n",
            "2549                  A                  1          0.001437  \n",
            "2550                                     1          0.002662  \n",
            "2551                  P                  1          0.007632  \n",
            "2552                  G                  1          0.002042  \n",
            "\n",
            "[2397 rows x 5 columns]\n",
            "  cleaned_occupation  average_funny_rate\n",
            "0                  A            0.012652\n",
            "1                  B            0.012421\n",
            "2                  C            0.013965\n",
            "3                  D            0.012218\n",
            "4                  E            0.015893\n",
            "5                  I            0.012504\n",
            "6                  M            0.012765\n",
            "7                  P            0.015109\n",
            "8                  S            0.013775\n",
            "9                  W            0.013317\n"
          ]
        }
      ],
      "source": [
        "from collections import Counter\n",
        "\n",
        "def most_frequent_rating(ratings):\n",
        "    if not ratings:\n",
        "        return None\n",
        "\n",
        "    rating_names = [rating['name'] if isinstance(rating, dict) and 'name' in rating else rating for rating in ratings]\n",
        "    rating_counts = Counter(rating_names)\n",
        "    return max(rating_counts, key=rating_counts.get)\n",
        "\n",
        "def clean_occupation_data(occupations):\n",
        "    if not occupations:\n",
        "        return None\n",
        "    return occupations[0]\n",
        "\n",
        "def count_funny_ratings(ratings):\n",
        "    if not ratings:\n",
        "        return 0\n",
        "    return sum(1 for rating in ratings if rating['name'] == 'Funny')\n",
        "\n",
        "def calculate_funny_percentage(comments, views):\n",
        "    if views == 0:\n",
        "        return 0\n",
        "    return (comments / views) * 100\n",
        "\n",
        "def q8(df):\n",
        "  df['ratings'] = df['ratings'].apply(ast.literal_eval)\n",
        "  df['most_frequent_rating'] = df['ratings'].apply(most_frequent_rating)\n",
        "  df['cleaned_occupation'] = df['speaker_occupation'].apply(clean_occupation_data)\n",
        "  df['num_funny_ratings'] = df['ratings'].apply(count_funny_ratings)\n",
        "  df['funny_percentage'] = df.apply(lambda row: calculate_funny_percentage(row['comments'], row['views']), axis=1)\n",
        "\n",
        "  # Display the relevant columns\n",
        "  result_df = df[['title', 'most_frequent_rating', 'cleaned_occupation', 'num_funny_ratings', 'funny_percentage']]\n",
        "  print(result_df)\n",
        "\n",
        "  # Focus on well-represented occupations\n",
        "  top_occupations = df['cleaned_occupation'].value_counts().index[:10]\n",
        "  filtered_df = df[df['cleaned_occupation'].isin(top_occupations)]\n",
        "\n",
        "  # Analyze the funny rate by occupation\n",
        "  occupation_funny_rate = (\n",
        "      filtered_df.groupby('cleaned_occupation')['funny_percentage']\n",
        "      .mean()\n",
        "      .reset_index(name='average_funny_rate')\n",
        "  )\n",
        "\n",
        "  print(occupation_funny_rate)\n",
        "\n",
        "q8(df.copy())"
      ]
    },
    {
      "cell_type": "code",
      "execution_count": null,
      "metadata": {
        "id": "OPkyx70r-MDJ"
      },
      "outputs": [],
      "source": []
    }
  ],
  "metadata": {
    "colab": {
      "provenance": []
    },
    "kernelspec": {
      "display_name": "Python 3",
      "language": "python",
      "name": "python3"
    },
    "language_info": {
      "codemirror_mode": {
        "name": "ipython",
        "version": 3
      },
      "file_extension": ".py",
      "mimetype": "text/x-python",
      "name": "python",
      "nbconvert_exporter": "python",
      "pygments_lexer": "ipython3",
      "version": "3.8.8"
    }
  },
  "nbformat": 4,
  "nbformat_minor": 0
}
